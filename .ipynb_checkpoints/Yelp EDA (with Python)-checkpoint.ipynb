{
 "cells": [
  {
   "cell_type": "markdown",
   "metadata": {},
   "source": [
    "# Yelp Project [working title]\n",
    "\n",
    "David Skarbrevik 2018"
   ]
  },
  {
   "cell_type": "code",
   "execution_count": 8,
   "metadata": {},
   "outputs": [],
   "source": [
    "import pandas as pd\n",
    "import numpy as np\n",
    "from collections import Counter\n",
    "from scipy import stats, integrate\n",
    "import matplotlib.pyplot as plt\n",
    "import matplotlib.dates as mdates\n",
    "import seaborn as sns\n",
    "import arrow\n",
    "import datetime\n",
    "\n",
    "\n",
    "%matplotlib inline\n",
    "sns.set(color_codes=True)\n",
    "\n",
    "import warnings\n",
    "warnings.filterwarnings(\"ignore\")"
   ]
  },
  {
   "cell_type": "code",
   "execution_count": 2,
   "metadata": {},
   "outputs": [],
   "source": [
    "pd.set_option('display.max_columns', 200)\n",
    "pd.set_option('display.max_rows', 200)"
   ]
  },
  {
   "cell_type": "markdown",
   "metadata": {},
   "source": [
    "### Read data files:"
   ]
  },
  {
   "cell_type": "code",
   "execution_count": 3,
   "metadata": {},
   "outputs": [],
   "source": [
    "df_business = pd.read_csv(\"E:\\\\Data Science Playgrounds\\\\Yelp dataset\\\\yelp_business.csv\")\n",
    "df_biz_attributes = pd.read_csv(\"E:\\\\Data Science Playgrounds\\\\Yelp dataset\\\\yelp_business_attributes.csv\")\n",
    "df_business_hours = pd.read_csv(\"E:\\\\Data Science Playgrounds\\\\Yelp dataset\\\\yelp_business_hours.csv\")\n",
    "df_checkin = pd.read_csv(\"E:\\\\Data Science Playgrounds\\\\Yelp dataset\\\\yelp_checkin.csv\")\n",
    "df_tips = pd.read_csv(\"E:\\\\Data Science Playgrounds\\\\Yelp dataset\\\\yelp_tip.csv\")\n",
    "df_users = pd.read_csv(\"E:\\\\Data Science Playgrounds\\\\Yelp dataset\\\\yelp_user.csv\")"
   ]
  },
  {
   "cell_type": "markdown",
   "metadata": {},
   "source": [
    "### Business data files"
   ]
  },
  {
   "cell_type": "markdown",
   "metadata": {},
   "source": [
    "**business.csv**"
   ]
  },
  {
   "cell_type": "code",
   "execution_count": 6,
   "metadata": {},
   "outputs": [
    {
     "data": {
      "text/html": [
       "<div>\n",
       "<style scoped>\n",
       "    .dataframe tbody tr th:only-of-type {\n",
       "        vertical-align: middle;\n",
       "    }\n",
       "\n",
       "    .dataframe tbody tr th {\n",
       "        vertical-align: top;\n",
       "    }\n",
       "\n",
       "    .dataframe thead th {\n",
       "        text-align: right;\n",
       "    }\n",
       "</style>\n",
       "<table border=\"1\" class=\"dataframe\">\n",
       "  <thead>\n",
       "    <tr style=\"text-align: right;\">\n",
       "      <th></th>\n",
       "      <th>business_id</th>\n",
       "      <th>name</th>\n",
       "      <th>neighborhood</th>\n",
       "      <th>address</th>\n",
       "      <th>city</th>\n",
       "      <th>state</th>\n",
       "      <th>postal_code</th>\n",
       "      <th>latitude</th>\n",
       "      <th>longitude</th>\n",
       "      <th>stars</th>\n",
       "      <th>review_count</th>\n",
       "      <th>is_open</th>\n",
       "      <th>categories</th>\n",
       "    </tr>\n",
       "  </thead>\n",
       "  <tbody>\n",
       "    <tr>\n",
       "      <th>0</th>\n",
       "      <td>FYWN1wneV18bWNgQjJ2GNg</td>\n",
       "      <td>\"Dental by Design\"</td>\n",
       "      <td>NaN</td>\n",
       "      <td>\"4855 E Warner Rd, Ste B9\"</td>\n",
       "      <td>Ahwatukee</td>\n",
       "      <td>AZ</td>\n",
       "      <td>85044</td>\n",
       "      <td>33.33069</td>\n",
       "      <td>-111.978599</td>\n",
       "      <td>4.0</td>\n",
       "      <td>22</td>\n",
       "      <td>1</td>\n",
       "      <td>Dentists;General Dentistry;Health &amp; Medical;Or...</td>\n",
       "    </tr>\n",
       "  </tbody>\n",
       "</table>\n",
       "</div>"
      ],
      "text/plain": [
       "              business_id                name neighborhood  \\\n",
       "0  FYWN1wneV18bWNgQjJ2GNg  \"Dental by Design\"          NaN   \n",
       "\n",
       "                      address       city state postal_code  latitude  \\\n",
       "0  \"4855 E Warner Rd, Ste B9\"  Ahwatukee    AZ       85044  33.33069   \n",
       "\n",
       "    longitude  stars  review_count  is_open  \\\n",
       "0 -111.978599    4.0            22        1   \n",
       "\n",
       "                                          categories  \n",
       "0  Dentists;General Dentistry;Health & Medical;Or...  "
      ]
     },
     "execution_count": 6,
     "metadata": {},
     "output_type": "execute_result"
    }
   ],
   "source": [
    "df_business.head(n=1)"
   ]
  },
  {
   "cell_type": "code",
   "execution_count": 7,
   "metadata": {},
   "outputs": [
    {
     "data": {
      "text/plain": [
       "(174567, 13)"
      ]
     },
     "execution_count": 7,
     "metadata": {},
     "output_type": "execute_result"
    }
   ],
   "source": [
    "df_business.shape"
   ]
  },
  {
   "cell_type": "code",
   "execution_count": 10,
   "metadata": {},
   "outputs": [
    {
     "data": {
      "text/html": [
       "<div>\n",
       "<style scoped>\n",
       "    .dataframe tbody tr th:only-of-type {\n",
       "        vertical-align: middle;\n",
       "    }\n",
       "\n",
       "    .dataframe tbody tr th {\n",
       "        vertical-align: top;\n",
       "    }\n",
       "\n",
       "    .dataframe thead th {\n",
       "        text-align: right;\n",
       "    }\n",
       "</style>\n",
       "<table border=\"1\" class=\"dataframe\">\n",
       "  <thead>\n",
       "    <tr style=\"text-align: right;\">\n",
       "      <th></th>\n",
       "      <th>latitude</th>\n",
       "      <th>longitude</th>\n",
       "      <th>stars</th>\n",
       "      <th>review_count</th>\n",
       "      <th>is_open</th>\n",
       "    </tr>\n",
       "  </thead>\n",
       "  <tbody>\n",
       "    <tr>\n",
       "      <th>count</th>\n",
       "      <td>174566.000000</td>\n",
       "      <td>174566.000000</td>\n",
       "      <td>174567.000000</td>\n",
       "      <td>174567.000000</td>\n",
       "      <td>174567.000000</td>\n",
       "    </tr>\n",
       "    <tr>\n",
       "      <th>mean</th>\n",
       "      <td>38.627312</td>\n",
       "      <td>-92.679009</td>\n",
       "      <td>3.632196</td>\n",
       "      <td>30.137059</td>\n",
       "      <td>0.840376</td>\n",
       "    </tr>\n",
       "    <tr>\n",
       "      <th>std</th>\n",
       "      <td>5.389012</td>\n",
       "      <td>26.240079</td>\n",
       "      <td>1.003739</td>\n",
       "      <td>98.208174</td>\n",
       "      <td>0.366258</td>\n",
       "    </tr>\n",
       "    <tr>\n",
       "      <th>min</th>\n",
       "      <td>-36.086009</td>\n",
       "      <td>-142.466650</td>\n",
       "      <td>1.000000</td>\n",
       "      <td>3.000000</td>\n",
       "      <td>0.000000</td>\n",
       "    </tr>\n",
       "    <tr>\n",
       "      <th>25%</th>\n",
       "      <td>33.631550</td>\n",
       "      <td>-112.125879</td>\n",
       "      <td>3.000000</td>\n",
       "      <td>4.000000</td>\n",
       "      <td>1.000000</td>\n",
       "    </tr>\n",
       "    <tr>\n",
       "      <th>50%</th>\n",
       "      <td>36.144257</td>\n",
       "      <td>-89.410128</td>\n",
       "      <td>3.500000</td>\n",
       "      <td>8.000000</td>\n",
       "      <td>1.000000</td>\n",
       "    </tr>\n",
       "    <tr>\n",
       "      <th>75%</th>\n",
       "      <td>43.606181</td>\n",
       "      <td>-79.657609</td>\n",
       "      <td>4.500000</td>\n",
       "      <td>23.000000</td>\n",
       "      <td>1.000000</td>\n",
       "    </tr>\n",
       "    <tr>\n",
       "      <th>max</th>\n",
       "      <td>89.999314</td>\n",
       "      <td>115.086769</td>\n",
       "      <td>5.000000</td>\n",
       "      <td>7361.000000</td>\n",
       "      <td>1.000000</td>\n",
       "    </tr>\n",
       "  </tbody>\n",
       "</table>\n",
       "</div>"
      ],
      "text/plain": [
       "            latitude      longitude          stars   review_count  \\\n",
       "count  174566.000000  174566.000000  174567.000000  174567.000000   \n",
       "mean       38.627312     -92.679009       3.632196      30.137059   \n",
       "std         5.389012      26.240079       1.003739      98.208174   \n",
       "min       -36.086009    -142.466650       1.000000       3.000000   \n",
       "25%        33.631550    -112.125879       3.000000       4.000000   \n",
       "50%        36.144257     -89.410128       3.500000       8.000000   \n",
       "75%        43.606181     -79.657609       4.500000      23.000000   \n",
       "max        89.999314     115.086769       5.000000    7361.000000   \n",
       "\n",
       "             is_open  \n",
       "count  174567.000000  \n",
       "mean        0.840376  \n",
       "std         0.366258  \n",
       "min         0.000000  \n",
       "25%         1.000000  \n",
       "50%         1.000000  \n",
       "75%         1.000000  \n",
       "max         1.000000  "
      ]
     },
     "execution_count": 10,
     "metadata": {},
     "output_type": "execute_result"
    }
   ],
   "source": [
    "df_business.describe()"
   ]
  },
  {
   "cell_type": "code",
   "execution_count": 50,
   "metadata": {},
   "outputs": [
    {
     "name": "stdout",
     "output_type": "stream",
     "text": [
      "Missing data from 106826 rows\n"
     ]
    }
   ],
   "source": [
    "if df_business[df_business.isnull().any(axis=1)].empty:\n",
    "    print(\"No missing values!\")\n",
    "else:\n",
    "    print(\"Missing data from {} rows\".format(df_business[df_business.isnull().any(axis=1)].shape[0]))"
   ]
  },
  {
   "cell_type": "code",
   "execution_count": 51,
   "metadata": {},
   "outputs": [
    {
     "data": {
      "text/plain": [
       "business_id          0\n",
       "name                 0\n",
       "neighborhood    106552\n",
       "address              0\n",
       "city                 1\n",
       "state                1\n",
       "postal_code        623\n",
       "latitude             1\n",
       "longitude            1\n",
       "stars                0\n",
       "review_count         0\n",
       "is_open              0\n",
       "categories           0\n",
       "dtype: int64"
      ]
     },
     "execution_count": 51,
     "metadata": {},
     "output_type": "execute_result"
    }
   ],
   "source": [
    "df_business.isnull().sum()"
   ]
  },
  {
   "cell_type": "markdown",
   "metadata": {},
   "source": [
    "**business_attributes.csv**"
   ]
  },
  {
   "cell_type": "code",
   "execution_count": 13,
   "metadata": {},
   "outputs": [
    {
     "data": {
      "text/html": [
       "<div>\n",
       "<style scoped>\n",
       "    .dataframe tbody tr th:only-of-type {\n",
       "        vertical-align: middle;\n",
       "    }\n",
       "\n",
       "    .dataframe tbody tr th {\n",
       "        vertical-align: top;\n",
       "    }\n",
       "\n",
       "    .dataframe thead th {\n",
       "        text-align: right;\n",
       "    }\n",
       "</style>\n",
       "<table border=\"1\" class=\"dataframe\">\n",
       "  <thead>\n",
       "    <tr style=\"text-align: right;\">\n",
       "      <th></th>\n",
       "      <th>business_id</th>\n",
       "      <th>AcceptsInsurance</th>\n",
       "      <th>ByAppointmentOnly</th>\n",
       "      <th>BusinessAcceptsCreditCards</th>\n",
       "      <th>BusinessParking_garage</th>\n",
       "      <th>BusinessParking_street</th>\n",
       "      <th>BusinessParking_validated</th>\n",
       "      <th>BusinessParking_lot</th>\n",
       "      <th>BusinessParking_valet</th>\n",
       "      <th>HairSpecializesIn_coloring</th>\n",
       "      <th>HairSpecializesIn_africanamerican</th>\n",
       "      <th>HairSpecializesIn_curly</th>\n",
       "      <th>HairSpecializesIn_perms</th>\n",
       "      <th>HairSpecializesIn_kids</th>\n",
       "      <th>HairSpecializesIn_extensions</th>\n",
       "      <th>HairSpecializesIn_asian</th>\n",
       "      <th>HairSpecializesIn_straightperms</th>\n",
       "      <th>RestaurantsPriceRange2</th>\n",
       "      <th>GoodForKids</th>\n",
       "      <th>WheelchairAccessible</th>\n",
       "      <th>BikeParking</th>\n",
       "      <th>Alcohol</th>\n",
       "      <th>HasTV</th>\n",
       "      <th>NoiseLevel</th>\n",
       "      <th>RestaurantsAttire</th>\n",
       "      <th>Music_dj</th>\n",
       "      <th>Music_background_music</th>\n",
       "      <th>Music_no_music</th>\n",
       "      <th>Music_karaoke</th>\n",
       "      <th>Music_live</th>\n",
       "      <th>Music_video</th>\n",
       "      <th>Music_jukebox</th>\n",
       "      <th>Ambience_romantic</th>\n",
       "      <th>Ambience_intimate</th>\n",
       "      <th>Ambience_classy</th>\n",
       "      <th>Ambience_hipster</th>\n",
       "      <th>Ambience_divey</th>\n",
       "      <th>Ambience_touristy</th>\n",
       "      <th>Ambience_trendy</th>\n",
       "      <th>Ambience_upscale</th>\n",
       "      <th>Ambience_casual</th>\n",
       "      <th>RestaurantsGoodForGroups</th>\n",
       "      <th>Caters</th>\n",
       "      <th>WiFi</th>\n",
       "      <th>RestaurantsReservations</th>\n",
       "      <th>RestaurantsTakeOut</th>\n",
       "      <th>HappyHour</th>\n",
       "      <th>GoodForDancing</th>\n",
       "      <th>RestaurantsTableService</th>\n",
       "      <th>OutdoorSeating</th>\n",
       "      <th>RestaurantsDelivery</th>\n",
       "      <th>BestNights_monday</th>\n",
       "      <th>BestNights_tuesday</th>\n",
       "      <th>BestNights_friday</th>\n",
       "      <th>BestNights_wednesday</th>\n",
       "      <th>BestNights_thursday</th>\n",
       "      <th>BestNights_sunday</th>\n",
       "      <th>BestNights_saturday</th>\n",
       "      <th>GoodForMeal_dessert</th>\n",
       "      <th>GoodForMeal_latenight</th>\n",
       "      <th>GoodForMeal_lunch</th>\n",
       "      <th>GoodForMeal_dinner</th>\n",
       "      <th>GoodForMeal_breakfast</th>\n",
       "      <th>GoodForMeal_brunch</th>\n",
       "      <th>CoatCheck</th>\n",
       "      <th>Smoking</th>\n",
       "      <th>DriveThru</th>\n",
       "      <th>DogsAllowed</th>\n",
       "      <th>BusinessAcceptsBitcoin</th>\n",
       "      <th>Open24Hours</th>\n",
       "      <th>BYOBCorkage</th>\n",
       "      <th>BYOB</th>\n",
       "      <th>Corkage</th>\n",
       "      <th>DietaryRestrictions_dairy-free</th>\n",
       "      <th>DietaryRestrictions_gluten-free</th>\n",
       "      <th>DietaryRestrictions_vegan</th>\n",
       "      <th>DietaryRestrictions_kosher</th>\n",
       "      <th>DietaryRestrictions_halal</th>\n",
       "      <th>DietaryRestrictions_soy-free</th>\n",
       "      <th>DietaryRestrictions_vegetarian</th>\n",
       "      <th>AgesAllowed</th>\n",
       "      <th>RestaurantsCounterService</th>\n",
       "    </tr>\n",
       "  </thead>\n",
       "  <tbody>\n",
       "    <tr>\n",
       "      <th>0</th>\n",
       "      <td>FYWN1wneV18bWNgQjJ2GNg</td>\n",
       "      <td>Na</td>\n",
       "      <td>Na</td>\n",
       "      <td>Na</td>\n",
       "      <td>True</td>\n",
       "      <td>Na</td>\n",
       "      <td>Na</td>\n",
       "      <td>Na</td>\n",
       "      <td>Na</td>\n",
       "      <td>Na</td>\n",
       "      <td>Na</td>\n",
       "      <td>Na</td>\n",
       "      <td>Na</td>\n",
       "      <td>Na</td>\n",
       "      <td>Na</td>\n",
       "      <td>Na</td>\n",
       "      <td>Na</td>\n",
       "      <td>Na</td>\n",
       "      <td>Na</td>\n",
       "      <td>Na</td>\n",
       "      <td>Na</td>\n",
       "      <td>Na</td>\n",
       "      <td>Na</td>\n",
       "      <td>Na</td>\n",
       "      <td>Na</td>\n",
       "      <td>Na</td>\n",
       "      <td>Na</td>\n",
       "      <td>Na</td>\n",
       "      <td>Na</td>\n",
       "      <td>Na</td>\n",
       "      <td>Na</td>\n",
       "      <td>Na</td>\n",
       "      <td>Na</td>\n",
       "      <td>Na</td>\n",
       "      <td>Na</td>\n",
       "      <td>Na</td>\n",
       "      <td>Na</td>\n",
       "      <td>Na</td>\n",
       "      <td>Na</td>\n",
       "      <td>Na</td>\n",
       "      <td>Na</td>\n",
       "      <td>Na</td>\n",
       "      <td>Na</td>\n",
       "      <td>Na</td>\n",
       "      <td>Na</td>\n",
       "      <td>Na</td>\n",
       "      <td>Na</td>\n",
       "      <td>Na</td>\n",
       "      <td>Na</td>\n",
       "      <td>Na</td>\n",
       "      <td>Na</td>\n",
       "      <td>Na</td>\n",
       "      <td>Na</td>\n",
       "      <td>Na</td>\n",
       "      <td>Na</td>\n",
       "      <td>Na</td>\n",
       "      <td>Na</td>\n",
       "      <td>Na</td>\n",
       "      <td>Na</td>\n",
       "      <td>Na</td>\n",
       "      <td>Na</td>\n",
       "      <td>Na</td>\n",
       "      <td>Na</td>\n",
       "      <td>Na</td>\n",
       "      <td>Na</td>\n",
       "      <td>Na</td>\n",
       "      <td>Na</td>\n",
       "      <td>Na</td>\n",
       "      <td>Na</td>\n",
       "      <td>Na</td>\n",
       "      <td>Na</td>\n",
       "      <td>Na</td>\n",
       "      <td>Na</td>\n",
       "      <td>Na</td>\n",
       "      <td>Na</td>\n",
       "      <td>Na</td>\n",
       "      <td>Na</td>\n",
       "      <td>Na</td>\n",
       "      <td>Na</td>\n",
       "      <td>Na</td>\n",
       "      <td>Na</td>\n",
       "      <td>Na</td>\n",
       "    </tr>\n",
       "  </tbody>\n",
       "</table>\n",
       "</div>"
      ],
      "text/plain": [
       "              business_id AcceptsInsurance ByAppointmentOnly  \\\n",
       "0  FYWN1wneV18bWNgQjJ2GNg               Na                Na   \n",
       "\n",
       "  BusinessAcceptsCreditCards BusinessParking_garage BusinessParking_street  \\\n",
       "0                         Na                   True                     Na   \n",
       "\n",
       "  BusinessParking_validated BusinessParking_lot BusinessParking_valet  \\\n",
       "0                        Na                  Na                    Na   \n",
       "\n",
       "  HairSpecializesIn_coloring HairSpecializesIn_africanamerican  \\\n",
       "0                         Na                                Na   \n",
       "\n",
       "  HairSpecializesIn_curly HairSpecializesIn_perms HairSpecializesIn_kids  \\\n",
       "0                      Na                      Na                     Na   \n",
       "\n",
       "  HairSpecializesIn_extensions HairSpecializesIn_asian  \\\n",
       "0                           Na                      Na   \n",
       "\n",
       "  HairSpecializesIn_straightperms RestaurantsPriceRange2 GoodForKids  \\\n",
       "0                              Na                     Na          Na   \n",
       "\n",
       "  WheelchairAccessible BikeParking Alcohol HasTV NoiseLevel RestaurantsAttire  \\\n",
       "0                   Na          Na      Na    Na         Na                Na   \n",
       "\n",
       "  Music_dj Music_background_music Music_no_music Music_karaoke Music_live  \\\n",
       "0       Na                     Na             Na            Na         Na   \n",
       "\n",
       "  Music_video Music_jukebox Ambience_romantic Ambience_intimate  \\\n",
       "0          Na            Na                Na                Na   \n",
       "\n",
       "  Ambience_classy Ambience_hipster Ambience_divey Ambience_touristy  \\\n",
       "0              Na               Na             Na                Na   \n",
       "\n",
       "  Ambience_trendy Ambience_upscale Ambience_casual RestaurantsGoodForGroups  \\\n",
       "0              Na               Na              Na                       Na   \n",
       "\n",
       "  Caters WiFi RestaurantsReservations RestaurantsTakeOut HappyHour  \\\n",
       "0     Na   Na                      Na                 Na        Na   \n",
       "\n",
       "  GoodForDancing RestaurantsTableService OutdoorSeating RestaurantsDelivery  \\\n",
       "0             Na                      Na             Na                  Na   \n",
       "\n",
       "  BestNights_monday BestNights_tuesday BestNights_friday BestNights_wednesday  \\\n",
       "0                Na                 Na                Na                   Na   \n",
       "\n",
       "  BestNights_thursday BestNights_sunday BestNights_saturday  \\\n",
       "0                  Na                Na                  Na   \n",
       "\n",
       "  GoodForMeal_dessert GoodForMeal_latenight GoodForMeal_lunch  \\\n",
       "0                  Na                    Na                Na   \n",
       "\n",
       "  GoodForMeal_dinner GoodForMeal_breakfast GoodForMeal_brunch CoatCheck  \\\n",
       "0                 Na                    Na                 Na        Na   \n",
       "\n",
       "  Smoking DriveThru DogsAllowed BusinessAcceptsBitcoin Open24Hours  \\\n",
       "0      Na        Na          Na                     Na          Na   \n",
       "\n",
       "  BYOBCorkage BYOB Corkage DietaryRestrictions_dairy-free  \\\n",
       "0          Na   Na      Na                             Na   \n",
       "\n",
       "  DietaryRestrictions_gluten-free DietaryRestrictions_vegan  \\\n",
       "0                              Na                        Na   \n",
       "\n",
       "  DietaryRestrictions_kosher DietaryRestrictions_halal  \\\n",
       "0                         Na                        Na   \n",
       "\n",
       "  DietaryRestrictions_soy-free DietaryRestrictions_vegetarian AgesAllowed  \\\n",
       "0                           Na                             Na          Na   \n",
       "\n",
       "  RestaurantsCounterService  \n",
       "0                        Na  "
      ]
     },
     "execution_count": 13,
     "metadata": {},
     "output_type": "execute_result"
    }
   ],
   "source": [
    "df_biz_attributes.head(n=1)"
   ]
  },
  {
   "cell_type": "markdown",
   "metadata": {},
   "source": [
    "**business_hours.csv**"
   ]
  },
  {
   "cell_type": "code",
   "execution_count": 14,
   "metadata": {},
   "outputs": [
    {
     "data": {
      "text/html": [
       "<div>\n",
       "<style scoped>\n",
       "    .dataframe tbody tr th:only-of-type {\n",
       "        vertical-align: middle;\n",
       "    }\n",
       "\n",
       "    .dataframe tbody tr th {\n",
       "        vertical-align: top;\n",
       "    }\n",
       "\n",
       "    .dataframe thead th {\n",
       "        text-align: right;\n",
       "    }\n",
       "</style>\n",
       "<table border=\"1\" class=\"dataframe\">\n",
       "  <thead>\n",
       "    <tr style=\"text-align: right;\">\n",
       "      <th></th>\n",
       "      <th>business_id</th>\n",
       "      <th>monday</th>\n",
       "      <th>tuesday</th>\n",
       "      <th>wednesday</th>\n",
       "      <th>thursday</th>\n",
       "      <th>friday</th>\n",
       "      <th>saturday</th>\n",
       "      <th>sunday</th>\n",
       "    </tr>\n",
       "  </thead>\n",
       "  <tbody>\n",
       "    <tr>\n",
       "      <th>0</th>\n",
       "      <td>FYWN1wneV18bWNgQjJ2GNg</td>\n",
       "      <td>7:30-17:0</td>\n",
       "      <td>7:30-17:0</td>\n",
       "      <td>7:30-17:0</td>\n",
       "      <td>7:30-17:0</td>\n",
       "      <td>7:30-17:0</td>\n",
       "      <td>None</td>\n",
       "      <td>None</td>\n",
       "    </tr>\n",
       "  </tbody>\n",
       "</table>\n",
       "</div>"
      ],
      "text/plain": [
       "              business_id     monday    tuesday  wednesday   thursday  \\\n",
       "0  FYWN1wneV18bWNgQjJ2GNg  7:30-17:0  7:30-17:0  7:30-17:0  7:30-17:0   \n",
       "\n",
       "      friday saturday sunday  \n",
       "0  7:30-17:0     None   None  "
      ]
     },
     "execution_count": 14,
     "metadata": {},
     "output_type": "execute_result"
    }
   ],
   "source": [
    "df_business_hours.head(n=1)"
   ]
  },
  {
   "cell_type": "markdown",
   "metadata": {},
   "source": [
    "**checkin.csv**"
   ]
  },
  {
   "cell_type": "code",
   "execution_count": 15,
   "metadata": {},
   "outputs": [
    {
     "data": {
      "text/html": [
       "<div>\n",
       "<style scoped>\n",
       "    .dataframe tbody tr th:only-of-type {\n",
       "        vertical-align: middle;\n",
       "    }\n",
       "\n",
       "    .dataframe tbody tr th {\n",
       "        vertical-align: top;\n",
       "    }\n",
       "\n",
       "    .dataframe thead th {\n",
       "        text-align: right;\n",
       "    }\n",
       "</style>\n",
       "<table border=\"1\" class=\"dataframe\">\n",
       "  <thead>\n",
       "    <tr style=\"text-align: right;\">\n",
       "      <th></th>\n",
       "      <th>business_id</th>\n",
       "      <th>weekday</th>\n",
       "      <th>hour</th>\n",
       "      <th>checkins</th>\n",
       "    </tr>\n",
       "  </thead>\n",
       "  <tbody>\n",
       "    <tr>\n",
       "      <th>0</th>\n",
       "      <td>3Mc-LxcqeguOXOVT_2ZtCg</td>\n",
       "      <td>Tue</td>\n",
       "      <td>0:00</td>\n",
       "      <td>12</td>\n",
       "    </tr>\n",
       "  </tbody>\n",
       "</table>\n",
       "</div>"
      ],
      "text/plain": [
       "              business_id weekday  hour  checkins\n",
       "0  3Mc-LxcqeguOXOVT_2ZtCg     Tue  0:00        12"
      ]
     },
     "execution_count": 15,
     "metadata": {},
     "output_type": "execute_result"
    }
   ],
   "source": [
    "df_checkin.head(n=1)"
   ]
  },
  {
   "cell_type": "markdown",
   "metadata": {},
   "source": [
    "**tips.csv**"
   ]
  },
  {
   "cell_type": "code",
   "execution_count": 16,
   "metadata": {},
   "outputs": [
    {
     "data": {
      "text/html": [
       "<div>\n",
       "<style scoped>\n",
       "    .dataframe tbody tr th:only-of-type {\n",
       "        vertical-align: middle;\n",
       "    }\n",
       "\n",
       "    .dataframe tbody tr th {\n",
       "        vertical-align: top;\n",
       "    }\n",
       "\n",
       "    .dataframe thead th {\n",
       "        text-align: right;\n",
       "    }\n",
       "</style>\n",
       "<table border=\"1\" class=\"dataframe\">\n",
       "  <thead>\n",
       "    <tr style=\"text-align: right;\">\n",
       "      <th></th>\n",
       "      <th>text</th>\n",
       "      <th>date</th>\n",
       "      <th>likes</th>\n",
       "      <th>business_id</th>\n",
       "      <th>user_id</th>\n",
       "    </tr>\n",
       "  </thead>\n",
       "  <tbody>\n",
       "    <tr>\n",
       "      <th>0</th>\n",
       "      <td>Great breakfast large portions and friendly wa...</td>\n",
       "      <td>2015-08-12</td>\n",
       "      <td>0</td>\n",
       "      <td>jH19V2I9fIslnNhDzPmdkA</td>\n",
       "      <td>ZcLKXikTHYOnYt5VYRO5sg</td>\n",
       "    </tr>\n",
       "  </tbody>\n",
       "</table>\n",
       "</div>"
      ],
      "text/plain": [
       "                                                text        date  likes  \\\n",
       "0  Great breakfast large portions and friendly wa...  2015-08-12      0   \n",
       "\n",
       "              business_id                 user_id  \n",
       "0  jH19V2I9fIslnNhDzPmdkA  ZcLKXikTHYOnYt5VYRO5sg  "
      ]
     },
     "execution_count": 16,
     "metadata": {},
     "output_type": "execute_result"
    }
   ],
   "source": [
    "df_tips.head(n=1)"
   ]
  },
  {
   "cell_type": "markdown",
   "metadata": {},
   "source": [
    "### User data files\n",
    "\n",
    "Note: excludes the review dataset... arguably the most interesting data file but it's large and I'm not ready to dig into it just yet :D"
   ]
  },
  {
   "cell_type": "markdown",
   "metadata": {},
   "source": [
    "**user.csv**"
   ]
  },
  {
   "cell_type": "code",
   "execution_count": 18,
   "metadata": {},
   "outputs": [
    {
     "data": {
      "text/html": [
       "<div>\n",
       "<style scoped>\n",
       "    .dataframe tbody tr th:only-of-type {\n",
       "        vertical-align: middle;\n",
       "    }\n",
       "\n",
       "    .dataframe tbody tr th {\n",
       "        vertical-align: top;\n",
       "    }\n",
       "\n",
       "    .dataframe thead th {\n",
       "        text-align: right;\n",
       "    }\n",
       "</style>\n",
       "<table border=\"1\" class=\"dataframe\">\n",
       "  <thead>\n",
       "    <tr style=\"text-align: right;\">\n",
       "      <th></th>\n",
       "      <th>user_id</th>\n",
       "      <th>name</th>\n",
       "      <th>review_count</th>\n",
       "      <th>yelping_since</th>\n",
       "      <th>friends</th>\n",
       "      <th>useful</th>\n",
       "      <th>funny</th>\n",
       "      <th>cool</th>\n",
       "      <th>fans</th>\n",
       "      <th>elite</th>\n",
       "      <th>average_stars</th>\n",
       "      <th>compliment_hot</th>\n",
       "      <th>compliment_more</th>\n",
       "      <th>compliment_profile</th>\n",
       "      <th>compliment_cute</th>\n",
       "      <th>compliment_list</th>\n",
       "      <th>compliment_note</th>\n",
       "      <th>compliment_plain</th>\n",
       "      <th>compliment_cool</th>\n",
       "      <th>compliment_funny</th>\n",
       "      <th>compliment_writer</th>\n",
       "      <th>compliment_photos</th>\n",
       "    </tr>\n",
       "  </thead>\n",
       "  <tbody>\n",
       "    <tr>\n",
       "      <th>0</th>\n",
       "      <td>JJ-aSuM4pCFPdkfoZ34q0Q</td>\n",
       "      <td>Chris</td>\n",
       "      <td>10</td>\n",
       "      <td>2013-09-24</td>\n",
       "      <td>0njfJmB-7n84DlIgUByCNw, rFn3Xe3RqHxRSxWOU19Gpg...</td>\n",
       "      <td>0</td>\n",
       "      <td>0</td>\n",
       "      <td>0</td>\n",
       "      <td>0</td>\n",
       "      <td>None</td>\n",
       "      <td>3.7</td>\n",
       "      <td>0</td>\n",
       "      <td>0</td>\n",
       "      <td>0</td>\n",
       "      <td>0</td>\n",
       "      <td>0</td>\n",
       "      <td>0</td>\n",
       "      <td>0</td>\n",
       "      <td>0</td>\n",
       "      <td>0</td>\n",
       "      <td>0</td>\n",
       "      <td>0</td>\n",
       "    </tr>\n",
       "  </tbody>\n",
       "</table>\n",
       "</div>"
      ],
      "text/plain": [
       "                  user_id   name  review_count yelping_since  \\\n",
       "0  JJ-aSuM4pCFPdkfoZ34q0Q  Chris            10    2013-09-24   \n",
       "\n",
       "                                             friends  useful  funny  cool  \\\n",
       "0  0njfJmB-7n84DlIgUByCNw, rFn3Xe3RqHxRSxWOU19Gpg...       0      0     0   \n",
       "\n",
       "   fans elite  average_stars  compliment_hot  compliment_more  \\\n",
       "0     0  None            3.7               0                0   \n",
       "\n",
       "   compliment_profile  compliment_cute  compliment_list  compliment_note  \\\n",
       "0                   0                0                0                0   \n",
       "\n",
       "   compliment_plain  compliment_cool  compliment_funny  compliment_writer  \\\n",
       "0                 0                0                 0                  0   \n",
       "\n",
       "   compliment_photos  \n",
       "0                  0  "
      ]
     },
     "execution_count": 18,
     "metadata": {},
     "output_type": "execute_result"
    }
   ],
   "source": [
    "df_users.head(n=1)"
   ]
  },
  {
   "cell_type": "code",
   "execution_count": 10,
   "metadata": {},
   "outputs": [
    {
     "data": {
      "text/plain": [
       "(1326100, 22)"
      ]
     },
     "execution_count": 10,
     "metadata": {},
     "output_type": "execute_result"
    }
   ],
   "source": [
    "df_users.shape"
   ]
  },
  {
   "cell_type": "code",
   "execution_count": 4,
   "metadata": {},
   "outputs": [
    {
     "data": {
      "text/html": [
       "<div>\n",
       "<style scoped>\n",
       "    .dataframe tbody tr th:only-of-type {\n",
       "        vertical-align: middle;\n",
       "    }\n",
       "\n",
       "    .dataframe tbody tr th {\n",
       "        vertical-align: top;\n",
       "    }\n",
       "\n",
       "    .dataframe thead th {\n",
       "        text-align: right;\n",
       "    }\n",
       "</style>\n",
       "<table border=\"1\" class=\"dataframe\">\n",
       "  <thead>\n",
       "    <tr style=\"text-align: right;\">\n",
       "      <th></th>\n",
       "      <th>review_count</th>\n",
       "      <th>useful</th>\n",
       "      <th>funny</th>\n",
       "      <th>cool</th>\n",
       "      <th>fans</th>\n",
       "      <th>average_stars</th>\n",
       "      <th>compliment_hot</th>\n",
       "      <th>compliment_more</th>\n",
       "      <th>compliment_profile</th>\n",
       "      <th>compliment_cute</th>\n",
       "      <th>compliment_list</th>\n",
       "      <th>compliment_note</th>\n",
       "      <th>compliment_plain</th>\n",
       "      <th>compliment_cool</th>\n",
       "      <th>compliment_funny</th>\n",
       "      <th>compliment_writer</th>\n",
       "      <th>compliment_photos</th>\n",
       "    </tr>\n",
       "  </thead>\n",
       "  <tbody>\n",
       "    <tr>\n",
       "      <th>count</th>\n",
       "      <td>1.326100e+06</td>\n",
       "      <td>1.326100e+06</td>\n",
       "      <td>1.326100e+06</td>\n",
       "      <td>1.326100e+06</td>\n",
       "      <td>1.326100e+06</td>\n",
       "      <td>1.326100e+06</td>\n",
       "      <td>1.326100e+06</td>\n",
       "      <td>1.326100e+06</td>\n",
       "      <td>1.326100e+06</td>\n",
       "      <td>1.326100e+06</td>\n",
       "      <td>1.326100e+06</td>\n",
       "      <td>1.326100e+06</td>\n",
       "      <td>1.326100e+06</td>\n",
       "      <td>1.326100e+06</td>\n",
       "      <td>1.326100e+06</td>\n",
       "      <td>1.326100e+06</td>\n",
       "      <td>1.326100e+06</td>\n",
       "    </tr>\n",
       "    <tr>\n",
       "      <th>mean</th>\n",
       "      <td>2.311717e+01</td>\n",
       "      <td>2.934477e+01</td>\n",
       "      <td>1.461139e+01</td>\n",
       "      <td>1.960347e+01</td>\n",
       "      <td>1.457274e+00</td>\n",
       "      <td>3.710841e+00</td>\n",
       "      <td>2.534310e+00</td>\n",
       "      <td>3.819033e-01</td>\n",
       "      <td>2.478478e-01</td>\n",
       "      <td>2.301101e-01</td>\n",
       "      <td>1.009637e-01</td>\n",
       "      <td>1.684783e+00</td>\n",
       "      <td>3.523903e+00</td>\n",
       "      <td>3.508096e+00</td>\n",
       "      <td>3.508096e+00</td>\n",
       "      <td>1.334797e+00</td>\n",
       "      <td>1.187572e+00</td>\n",
       "    </tr>\n",
       "    <tr>\n",
       "      <th>std</th>\n",
       "      <td>7.909808e+01</td>\n",
       "      <td>7.058728e+02</td>\n",
       "      <td>4.974612e+02</td>\n",
       "      <td>6.695229e+02</td>\n",
       "      <td>1.428609e+01</td>\n",
       "      <td>1.120721e+00</td>\n",
       "      <td>7.653176e+01</td>\n",
       "      <td>1.489118e+01</td>\n",
       "      <td>1.769975e+01</td>\n",
       "      <td>1.403812e+01</td>\n",
       "      <td>1.205389e+01</td>\n",
       "      <td>6.033666e+01</td>\n",
       "      <td>9.379238e+01</td>\n",
       "      <td>8.955264e+01</td>\n",
       "      <td>8.955264e+01</td>\n",
       "      <td>3.417995e+01</td>\n",
       "      <td>9.954291e+01</td>\n",
       "    </tr>\n",
       "    <tr>\n",
       "      <th>min</th>\n",
       "      <td>0.000000e+00</td>\n",
       "      <td>0.000000e+00</td>\n",
       "      <td>0.000000e+00</td>\n",
       "      <td>0.000000e+00</td>\n",
       "      <td>0.000000e+00</td>\n",
       "      <td>1.000000e+00</td>\n",
       "      <td>0.000000e+00</td>\n",
       "      <td>0.000000e+00</td>\n",
       "      <td>0.000000e+00</td>\n",
       "      <td>0.000000e+00</td>\n",
       "      <td>0.000000e+00</td>\n",
       "      <td>0.000000e+00</td>\n",
       "      <td>0.000000e+00</td>\n",
       "      <td>0.000000e+00</td>\n",
       "      <td>0.000000e+00</td>\n",
       "      <td>0.000000e+00</td>\n",
       "      <td>0.000000e+00</td>\n",
       "    </tr>\n",
       "    <tr>\n",
       "      <th>25%</th>\n",
       "      <td>2.000000e+00</td>\n",
       "      <td>0.000000e+00</td>\n",
       "      <td>0.000000e+00</td>\n",
       "      <td>0.000000e+00</td>\n",
       "      <td>0.000000e+00</td>\n",
       "      <td>3.090000e+00</td>\n",
       "      <td>0.000000e+00</td>\n",
       "      <td>0.000000e+00</td>\n",
       "      <td>0.000000e+00</td>\n",
       "      <td>0.000000e+00</td>\n",
       "      <td>0.000000e+00</td>\n",
       "      <td>0.000000e+00</td>\n",
       "      <td>0.000000e+00</td>\n",
       "      <td>0.000000e+00</td>\n",
       "      <td>0.000000e+00</td>\n",
       "      <td>0.000000e+00</td>\n",
       "      <td>0.000000e+00</td>\n",
       "    </tr>\n",
       "    <tr>\n",
       "      <th>50%</th>\n",
       "      <td>5.000000e+00</td>\n",
       "      <td>0.000000e+00</td>\n",
       "      <td>0.000000e+00</td>\n",
       "      <td>0.000000e+00</td>\n",
       "      <td>0.000000e+00</td>\n",
       "      <td>3.900000e+00</td>\n",
       "      <td>0.000000e+00</td>\n",
       "      <td>0.000000e+00</td>\n",
       "      <td>0.000000e+00</td>\n",
       "      <td>0.000000e+00</td>\n",
       "      <td>0.000000e+00</td>\n",
       "      <td>0.000000e+00</td>\n",
       "      <td>0.000000e+00</td>\n",
       "      <td>0.000000e+00</td>\n",
       "      <td>0.000000e+00</td>\n",
       "      <td>0.000000e+00</td>\n",
       "      <td>0.000000e+00</td>\n",
       "    </tr>\n",
       "    <tr>\n",
       "      <th>75%</th>\n",
       "      <td>1.500000e+01</td>\n",
       "      <td>3.000000e+00</td>\n",
       "      <td>1.000000e+00</td>\n",
       "      <td>0.000000e+00</td>\n",
       "      <td>0.000000e+00</td>\n",
       "      <td>4.610000e+00</td>\n",
       "      <td>0.000000e+00</td>\n",
       "      <td>0.000000e+00</td>\n",
       "      <td>0.000000e+00</td>\n",
       "      <td>0.000000e+00</td>\n",
       "      <td>0.000000e+00</td>\n",
       "      <td>0.000000e+00</td>\n",
       "      <td>0.000000e+00</td>\n",
       "      <td>0.000000e+00</td>\n",
       "      <td>0.000000e+00</td>\n",
       "      <td>0.000000e+00</td>\n",
       "      <td>0.000000e+00</td>\n",
       "    </tr>\n",
       "    <tr>\n",
       "      <th>max</th>\n",
       "      <td>1.195400e+04</td>\n",
       "      <td>2.247100e+05</td>\n",
       "      <td>2.127610e+05</td>\n",
       "      <td>2.224160e+05</td>\n",
       "      <td>7.009000e+03</td>\n",
       "      <td>5.000000e+00</td>\n",
       "      <td>2.429300e+04</td>\n",
       "      <td>1.347800e+04</td>\n",
       "      <td>1.413700e+04</td>\n",
       "      <td>1.363800e+04</td>\n",
       "      <td>1.264700e+04</td>\n",
       "      <td>5.696000e+04</td>\n",
       "      <td>4.183500e+04</td>\n",
       "      <td>2.976500e+04</td>\n",
       "      <td>2.976500e+04</td>\n",
       "      <td>1.540300e+04</td>\n",
       "      <td>8.258000e+04</td>\n",
       "    </tr>\n",
       "  </tbody>\n",
       "</table>\n",
       "</div>"
      ],
      "text/plain": [
       "       review_count        useful         funny          cool          fans  \\\n",
       "count  1.326100e+06  1.326100e+06  1.326100e+06  1.326100e+06  1.326100e+06   \n",
       "mean   2.311717e+01  2.934477e+01  1.461139e+01  1.960347e+01  1.457274e+00   \n",
       "std    7.909808e+01  7.058728e+02  4.974612e+02  6.695229e+02  1.428609e+01   \n",
       "min    0.000000e+00  0.000000e+00  0.000000e+00  0.000000e+00  0.000000e+00   \n",
       "25%    2.000000e+00  0.000000e+00  0.000000e+00  0.000000e+00  0.000000e+00   \n",
       "50%    5.000000e+00  0.000000e+00  0.000000e+00  0.000000e+00  0.000000e+00   \n",
       "75%    1.500000e+01  3.000000e+00  1.000000e+00  0.000000e+00  0.000000e+00   \n",
       "max    1.195400e+04  2.247100e+05  2.127610e+05  2.224160e+05  7.009000e+03   \n",
       "\n",
       "       average_stars  compliment_hot  compliment_more  compliment_profile  \\\n",
       "count   1.326100e+06    1.326100e+06     1.326100e+06        1.326100e+06   \n",
       "mean    3.710841e+00    2.534310e+00     3.819033e-01        2.478478e-01   \n",
       "std     1.120721e+00    7.653176e+01     1.489118e+01        1.769975e+01   \n",
       "min     1.000000e+00    0.000000e+00     0.000000e+00        0.000000e+00   \n",
       "25%     3.090000e+00    0.000000e+00     0.000000e+00        0.000000e+00   \n",
       "50%     3.900000e+00    0.000000e+00     0.000000e+00        0.000000e+00   \n",
       "75%     4.610000e+00    0.000000e+00     0.000000e+00        0.000000e+00   \n",
       "max     5.000000e+00    2.429300e+04     1.347800e+04        1.413700e+04   \n",
       "\n",
       "       compliment_cute  compliment_list  compliment_note  compliment_plain  \\\n",
       "count     1.326100e+06     1.326100e+06     1.326100e+06      1.326100e+06   \n",
       "mean      2.301101e-01     1.009637e-01     1.684783e+00      3.523903e+00   \n",
       "std       1.403812e+01     1.205389e+01     6.033666e+01      9.379238e+01   \n",
       "min       0.000000e+00     0.000000e+00     0.000000e+00      0.000000e+00   \n",
       "25%       0.000000e+00     0.000000e+00     0.000000e+00      0.000000e+00   \n",
       "50%       0.000000e+00     0.000000e+00     0.000000e+00      0.000000e+00   \n",
       "75%       0.000000e+00     0.000000e+00     0.000000e+00      0.000000e+00   \n",
       "max       1.363800e+04     1.264700e+04     5.696000e+04      4.183500e+04   \n",
       "\n",
       "       compliment_cool  compliment_funny  compliment_writer  compliment_photos  \n",
       "count     1.326100e+06      1.326100e+06       1.326100e+06       1.326100e+06  \n",
       "mean      3.508096e+00      3.508096e+00       1.334797e+00       1.187572e+00  \n",
       "std       8.955264e+01      8.955264e+01       3.417995e+01       9.954291e+01  \n",
       "min       0.000000e+00      0.000000e+00       0.000000e+00       0.000000e+00  \n",
       "25%       0.000000e+00      0.000000e+00       0.000000e+00       0.000000e+00  \n",
       "50%       0.000000e+00      0.000000e+00       0.000000e+00       0.000000e+00  \n",
       "75%       0.000000e+00      0.000000e+00       0.000000e+00       0.000000e+00  \n",
       "max       2.976500e+04      2.976500e+04       1.540300e+04       8.258000e+04  "
      ]
     },
     "execution_count": 4,
     "metadata": {},
     "output_type": "execute_result"
    }
   ],
   "source": [
    "df_users.describe()"
   ]
  },
  {
   "cell_type": "code",
   "execution_count": 48,
   "metadata": {},
   "outputs": [
    {
     "name": "stdout",
     "output_type": "stream",
     "text": [
      "Missing data from 497 rows\n"
     ]
    }
   ],
   "source": [
    "if df_users[df_users.isnull().any(axis=1)].empty:\n",
    "    print(\"No missing values!\")\n",
    "else:\n",
    "    print(\"Missing data from {} rows\".format(df_users[df_users.isnull().any(axis=1)].shape[0]))"
   ]
  },
  {
   "cell_type": "code",
   "execution_count": 49,
   "metadata": {},
   "outputs": [
    {
     "data": {
      "text/plain": [
       "user_id                 0\n",
       "name                  497\n",
       "review_count            0\n",
       "yelping_since           0\n",
       "friends                 0\n",
       "useful                  0\n",
       "funny                   0\n",
       "cool                    0\n",
       "fans                    0\n",
       "elite                   0\n",
       "average_stars           0\n",
       "compliment_hot          0\n",
       "compliment_more         0\n",
       "compliment_profile      0\n",
       "compliment_cute         0\n",
       "compliment_list         0\n",
       "compliment_note         0\n",
       "compliment_plain        0\n",
       "compliment_cool         0\n",
       "compliment_funny        0\n",
       "compliment_writer       0\n",
       "compliment_photos       0\n",
       "dtype: int64"
      ]
     },
     "execution_count": 49,
     "metadata": {},
     "output_type": "execute_result"
    }
   ],
   "source": [
    "df_users.isnull().sum()"
   ]
  },
  {
   "cell_type": "markdown",
   "metadata": {},
   "source": [
    "## Thoughts on datasets\n",
    "\n",
    "The most interesting files here (to me) are the business.csv and user.csv files. When checking for missing data it looks like they're relatively clean. The only missing data for businesses tends to be data about neighborhood or postal code and for users the only missing data is name (from a pretty small percentage of users).\n",
    "\n",
    "We haven't looked at the reviews data yet b/c it's 3gigs and its own whole can of worms, what with NLP musings about possible approaches... anyway let's consider what we can do with these data files first.\n",
    "\n",
    "Notice how the average star rating of a business and the average star rating given by a user aligns closely (which is good) but that it is well above 3.0, which we would think should be the actual average score. This implies that users are biased toward rating a business highly.\n",
    "\n",
    "From my experience, I imagine that a user's rating with a business is more of a thumbs up / thumbs down system than a five point system. So users would be more inclined to rate 1 or 5 thatn 2-4... unfortunately we don't have that fine grain of data to test this idea properly. But looking at the distribution of average ratings is better than nothing."
   ]
  },
  {
   "cell_type": "code",
   "execution_count": 29,
   "metadata": {},
   "outputs": [
    {
     "data": {
      "image/png": "[encoded data removed]",
      "text/plain": [
       "<Figure size 1152x576 with 1 Axes>"
      ]
     },
     "metadata": {},
     "output_type": "display_data"
    }
   ],
   "source": [
    "fig, ax = plt.subplots(figsize=(16,8))\n",
    "sns.distplot(df_users[\"average_stars\"].tolist(), ax=ax)\n",
    "ax.set_title(\"Histogram of Average Star Rating from Users\", fontsize=22);\n",
    "ax.set_xlabel(\"Average Star Rating\", fontsize=16);\n",
    "ax.tick_params(labelsize=14);\n",
    "plt.xlim(1,5);"
   ]
  },
  {
   "cell_type": "markdown",
   "metadata": {},
   "source": [
    "While proving nothing, this does support the idea that people are more likely to choose 1 or 5 stars and that they tend to be biased toward positive reviews over negative reviews. \n",
    "\n",
    "The reason for spikes exactly at the 1-5 integer marks is either due to people who always rate a specific way or who have only rated one business. We can actually test the idea that many users only rate one business!"
   ]
  },
  {
   "cell_type": "code",
   "execution_count": 58,
   "metadata": {},
   "outputs": [
    {
     "name": "stdout",
     "output_type": "stream",
     "text": [
      "Percent of users with exactly 0 reviews = 0.10%\n",
      "Percent of users with exactly 1 reviews = 18.42%\n",
      "Percent of users with exactly 2 reviews = 12.53%\n",
      "Percent of users with exactly 3 reviews = 9.50%\n",
      "Percent of users with exactly 4 reviews = 6.78%\n",
      "Percent of users with exactly 5 reviews = 5.15%\n",
      "Percent of users with exactly 6 reviews = 4.11%\n",
      "Percent of users with exactly 7 reviews = 3.36%\n",
      "Percent of users with exactly 8 reviews = 2.83%\n",
      "Percent of users with exactly 9 reviews = 2.44%\n",
      "Percent of users with exactly 10 reviews = 2.15%\n"
     ]
    }
   ],
   "source": [
    "for i in range(0,11):\n",
    "    review = df_users[df_users[\"review_count\"] == i]\n",
    "    print(\"Percent of users with exactly {0} reviews = {1:.2f}%\".format(i,(review.shape[0]/df_users.shape[0])*100))"
   ]
  },
  {
   "cell_type": "code",
   "execution_count": 56,
   "metadata": {},
   "outputs": [
    {
     "data": {
      "text/plain": [
       "[(1, 244232), (2, 166170), (3, 125947), (4, 89844), (5, 68334)]"
      ]
     },
     "execution_count": 56,
     "metadata": {},
     "output_type": "execute_result"
    }
   ],
   "source": [
    "reviews = Counter(df_users[\"review_count\"].tolist())\n",
    "reviews.most_common(5)"
   ]
  },
  {
   "cell_type": "markdown",
   "metadata": {},
   "source": [
    "So we see that reviewing only one place is by far the most common behavior for a user."
   ]
  },
  {
   "cell_type": "code",
   "execution_count": 46,
   "metadata": {},
   "outputs": [
    {
     "name": "stdout",
     "output_type": "stream",
     "text": [
      "Mean =  23.12\n",
      "SD = 79.10\n"
     ]
    },
    {
     "data": {
      "image/png": "[encoded data removed]",
      "text/plain": [
       "<Figure size 1152x576 with 1 Axes>"
      ]
     },
     "metadata": {},
     "output_type": "display_data"
    }
   ],
   "source": [
    "fig, ax = plt.subplots(figsize=(16,8))\n",
    "sns.distplot(df_users[\"review_count\"].tolist(), hist=False, ax=ax)\n",
    "ax.set_title(\"Histogram of Number of Reviews per User\", fontsize=22);\n",
    "ax.set_xlabel(\"Number of Reviews\", fontsize=16);\n",
    "ax.tick_params(labelsize=14);\n",
    "plt.xlim(0,1000);\n",
    "\n",
    "print(\"Mean =  {:.2f}\".format(np.mean(df_users[\"review_count\"])))\n",
    "print(\"SD = {:.2f}\".format(np.std(df_users[\"review_count\"])))"
   ]
  },
  {
   "cell_type": "markdown",
   "metadata": {},
   "source": [
    "Interestingly, even though most users don't review many businesses, the \"average user\" reviews 20 businesses because a few users review a LOT of businesses (Yelp elite!!)."
   ]
  },
  {
   "cell_type": "code",
   "execution_count": 47,
   "metadata": {},
   "outputs": [
    {
     "name": "stdout",
     "output_type": "stream",
     "text": [
      "Mean =  30.14\n",
      "SD = 98.21\n"
     ]
    },
    {
     "data": {
      "image/png": "[encoded data removed]",
      "text/plain": [
       "<Figure size 1152x576 with 1 Axes>"
      ]
     },
     "metadata": {},
     "output_type": "display_data"
    }
   ],
   "source": [
    "fig, ax = plt.subplots(figsize=(16,8))\n",
    "sns.distplot(df_business[\"review_count\"].tolist(), hist=False, ax=ax)\n",
    "ax.set_title(\"Histogram of Number of Reviews for Businesses\", fontsize=22);\n",
    "ax.set_xlabel(\"Number of Reviews\", fontsize=16);\n",
    "ax.tick_params(labelsize=14);\n",
    "plt.xlim(0,1000);\n",
    "\n",
    "print(\"Mean =  {:.2f}\".format(np.mean(df_business[\"review_count\"])))\n",
    "print(\"SD = {:.2f}\".format(np.std(df_business[\"review_count\"])))"
   ]
  },
  {
   "cell_type": "markdown",
   "metadata": {},
   "source": [
    "Looking above we see that the average number of reviews for a business is around 30, which is confirmed by this histogram. However, we also saw that the standard deviation was close to 100. There can't be less than 0 reviews, but what this means is that there are many businesses with far more than 30 reviews."
   ]
  },
  {
   "cell_type": "markdown",
   "metadata": {},
   "source": []
  }
 ],
 "metadata": {
  "kernelspec": {
   "display_name": "Python 3",
   "language": "python",
   "name": "python3"
  },
  "language_info": {
   "codemirror_mode": {
    "name": "ipython",
    "version": 3
   },
   "file_extension": ".py",
   "mimetype": "text/x-python",
   "name": "python",
   "nbconvert_exporter": "python",
   "pygments_lexer": "ipython3",
   "version": "3.5.0"
  }
 },
 "nbformat": 4,
 "nbformat_minor": 2
}
